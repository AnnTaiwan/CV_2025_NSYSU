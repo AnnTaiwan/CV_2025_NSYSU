{
 "cells": [
  {
   "cell_type": "code",
   "execution_count": 1,
   "metadata": {},
   "outputs": [],
   "source": [
    "from tensorflow.keras.layers import MaxPooling2D, Conv2D\n",
    "import numpy as np\n",
    "import tensorflow as tf\n",
    "\n",
    "# Step 2 (30 points)\n",
    "def net48_siso(): \n",
    "    height, width = 48, 48\n",
    "    inputs = tf.keras.Input((height, width, 3));\n",
    "    x = Conv2D(8,3,1,'same',activation='relu')(inputs)\n",
    "    # enter your code here\n",
    "    x = MaxPooling2D(2,2,'valid')(x)\n",
    "    x = Conv2D(8,3,1,'valid',activation='relu')(x)\n",
    "    x = MaxPooling2D(2,2,'valid')(x)\n",
    "    x = Conv2D(4,3,1,'valid',activation='relu')(x)\n",
    "    x = MaxPooling2D(2,2,'valid')(x)\n",
    "    x = Conv2D(4,3,1,'valid',activation='relu')(x)\n",
    "    x = MaxPooling2D(2,2,'valid')(x)\n",
    "    x = Conv2D(2, 3, 1, 'same', activation='softmax', name='cls_output')(x)\n",
    "    outputs = x # The output shape of the model is (1, 1, 2)\n",
    "    return tf.keras.Model(inputs = inputs, outputs = outputs)\n"
   ]
  },
  {
   "cell_type": "code",
   "execution_count": 2,
   "metadata": {},
   "outputs": [],
   "source": [
    "# Step 3 (15 points)\n",
    "def net48_simo(): \n",
    "    height, width = 48, 48\n",
    "    inputs = tf.keras.Input((height, width, 3));\n",
    "    x_first = Conv2D(8,3,1,'same',activation='relu')(inputs)\n",
    "    # enter your code here\n",
    "    def branch_fn(input, final_channels, name, activation=None):\n",
    "        x = MaxPooling2D(2,2,'valid')(input)\n",
    "        x = Conv2D(8,3,1,'valid',activation='relu')(x)\n",
    "        x = MaxPooling2D(2,2,'valid')(x)\n",
    "        x = Conv2D(4,3,1,'valid',activation='relu')(x)\n",
    "        x = MaxPooling2D(2,2,'valid')(x)\n",
    "        x = Conv2D(4,3,1,'valid',activation='relu')(x)\n",
    "        x = MaxPooling2D(2,2,'valid')(x)\n",
    "        x = Conv2D(final_channels, 3, 1, 'same', activation=activation, name=name)(x)\n",
    "        return x\n",
    "    # for outputs1\n",
    "    outputs_1 = branch_fn(x_first, 2, 'cls_output', 'softmax') # The output shape of the model is (1, 1, 2)\n",
    "    # for outputs2\n",
    "    outputs_2 = branch_fn(x_first, 4, 'reg_output') # The output shape of the model is (1, 1, 4)\n",
    "    \n",
    "    # you need to modify the following line\n",
    "    return tf.keras.Model(inputs = inputs, outputs = (outputs_1, outputs_2))"
   ]
  },
  {
   "cell_type": "code",
   "execution_count": 3,
   "metadata": {},
   "outputs": [],
   "source": [
    "# Do not change below.\n",
    "def check_model(cnn_model, is_simo=False):\n",
    "  print('Checking the CNN model...')\n",
    "  is_passed = True\n",
    "  is_cls_output = False\n",
    "  is_reg_output = False\n",
    "  ishape = cnn_model.input_shape[1:]\n",
    "  if (48,48,3) != ishape:\n",
    "     print('Error! The input shape', ishape, 'is not equal to (48,48,3)')\n",
    "     is_passed = False\n",
    "  for i,layer in enumerate(cnn_model.layers):\n",
    "     if layer.name == 'cls_output':\n",
    "       oshape = layer.output_shape[1:]\n",
    "       is_cls_output = True\n",
    "       if (1,1,2) != oshape:\n",
    "          print('Error! The output shape', oshape, 'is not equal to (1,1,2)')\n",
    "          is_passed = False\n",
    "     if layer.name == 'reg_output':\n",
    "       oshape = layer.output_shape[1:]\n",
    "       is_reg_output = True\n",
    "       if (1,1,4) != oshape:\n",
    "          print('Error! The output shape', oshape, 'is not equal to (1,1,4)')\n",
    "          is_passed = False\n",
    "     layer_type = layer.__class__.__name__\n",
    "     if layer_type == 'Dense':\n",
    "       print('Error! Cannot use Dense layers.')\n",
    "       is_passed = False\n",
    "     if layer_type == 'Conv2D':\n",
    "       kernel_size = layer.kernel_size\n",
    "       strides = layer.strides\n",
    "       if np.max(kernel_size) > 7:\n",
    "         print('({:d} {:s}) Error! kernel_size should be less than or equal to 7'.format(i, layer_type))\n",
    "         is_passed = False\n",
    "       if np.max(strides) > 2:\n",
    "         print('({:d} {:s}) Error! stride should be less than or equal to 2'.format(i, layer_type))\n",
    "         is_passed = False\n",
    "     if layer_type == 'MaxPooling2D':\n",
    "       pool_size = layer.pool_size\n",
    "       strides = layer.strides\n",
    "       if np.max(pool_size) > 2:\n",
    "         print('({:d} {:s}) Error! pool_size should be less than or equal to 2'.format(i, layer_type))\n",
    "         is_passed = False\n",
    "       if np.max(strides) > 2:\n",
    "         print('({:d} {:s}) Error! stride should be less than or equal to 2'.format(i, layer_type))\n",
    "         is_passed = False\n",
    "  if not is_cls_output:\n",
    "     print('Error! There should be a Conv. layer with name cls_output')\n",
    "     is_passed = False\n",
    "  if is_simo:\n",
    "     if not is_reg_output:\n",
    "       print('Error! There should be a Conv. layer with name reg_output')\n",
    "       is_passed = False\n",
    "  if is_passed:\n",
    "     print('Great! The CNN model satisfies all the requirements.')\n"
   ]
  },
  {
   "cell_type": "code",
   "execution_count": 4,
   "metadata": {},
   "outputs": [
    {
     "name": "stdout",
     "output_type": "stream",
     "text": [
      "Model: \"model\"\n",
      "_________________________________________________________________\n",
      " Layer (type)                Output Shape              Param #   \n",
      "=================================================================\n",
      " input_1 (InputLayer)        [(None, 48, 48, 3)]       0         \n",
      "                                                                 \n",
      " conv2d (Conv2D)             (None, 48, 48, 8)         224       \n",
      "                                                                 \n",
      " max_pooling2d (MaxPooling2D  (None, 24, 24, 8)        0         \n",
      " )                                                               \n",
      "                                                                 \n",
      " conv2d_1 (Conv2D)           (None, 22, 22, 8)         584       \n",
      "                                                                 \n",
      " max_pooling2d_1 (MaxPooling  (None, 11, 11, 8)        0         \n",
      " 2D)                                                             \n",
      "                                                                 \n",
      " conv2d_2 (Conv2D)           (None, 9, 9, 4)           292       \n",
      "                                                                 \n",
      " max_pooling2d_2 (MaxPooling  (None, 4, 4, 4)          0         \n",
      " 2D)                                                             \n",
      "                                                                 \n",
      " conv2d_3 (Conv2D)           (None, 2, 2, 4)           148       \n",
      "                                                                 \n",
      " max_pooling2d_3 (MaxPooling  (None, 1, 1, 4)          0         \n",
      " 2D)                                                             \n",
      "                                                                 \n",
      " cls_output (Conv2D)         (None, 1, 1, 2)           74        \n",
      "                                                                 \n",
      "=================================================================\n",
      "Total params: 1,322\n",
      "Trainable params: 1,322\n",
      "Non-trainable params: 0\n",
      "_________________________________________________________________\n",
      "Checking the CNN model...\n",
      "Great! The CNN model satisfies all the requirements.\n",
      "\n"
     ]
    }
   ],
   "source": [
    "# Do not change below.\n",
    "model48_siso = net48_siso()\n",
    "model48_siso.summary()\n",
    "check_model(model48_siso)\n",
    "print()"
   ]
  },
  {
   "cell_type": "code",
   "execution_count": 5,
   "metadata": {},
   "outputs": [
    {
     "name": "stdout",
     "output_type": "stream",
     "text": [
      "Model: \"model_1\"\n",
      "__________________________________________________________________________________________________\n",
      " Layer (type)                   Output Shape         Param #     Connected to                     \n",
      "==================================================================================================\n",
      " input_2 (InputLayer)           [(None, 48, 48, 3)]  0           []                               \n",
      "                                                                                                  \n",
      " conv2d_4 (Conv2D)              (None, 48, 48, 8)    224         ['input_2[0][0]']                \n",
      "                                                                                                  \n",
      " max_pooling2d_4 (MaxPooling2D)  (None, 24, 24, 8)   0           ['conv2d_4[0][0]']               \n",
      "                                                                                                  \n",
      " max_pooling2d_8 (MaxPooling2D)  (None, 24, 24, 8)   0           ['conv2d_4[0][0]']               \n",
      "                                                                                                  \n",
      " conv2d_5 (Conv2D)              (None, 22, 22, 8)    584         ['max_pooling2d_4[0][0]']        \n",
      "                                                                                                  \n",
      " conv2d_8 (Conv2D)              (None, 22, 22, 8)    584         ['max_pooling2d_8[0][0]']        \n",
      "                                                                                                  \n",
      " max_pooling2d_5 (MaxPooling2D)  (None, 11, 11, 8)   0           ['conv2d_5[0][0]']               \n",
      "                                                                                                  \n",
      " max_pooling2d_9 (MaxPooling2D)  (None, 11, 11, 8)   0           ['conv2d_8[0][0]']               \n",
      "                                                                                                  \n",
      " conv2d_6 (Conv2D)              (None, 9, 9, 4)      292         ['max_pooling2d_5[0][0]']        \n",
      "                                                                                                  \n",
      " conv2d_9 (Conv2D)              (None, 9, 9, 4)      292         ['max_pooling2d_9[0][0]']        \n",
      "                                                                                                  \n",
      " max_pooling2d_6 (MaxPooling2D)  (None, 4, 4, 4)     0           ['conv2d_6[0][0]']               \n",
      "                                                                                                  \n",
      " max_pooling2d_10 (MaxPooling2D  (None, 4, 4, 4)     0           ['conv2d_9[0][0]']               \n",
      " )                                                                                                \n",
      "                                                                                                  \n",
      " conv2d_7 (Conv2D)              (None, 2, 2, 4)      148         ['max_pooling2d_6[0][0]']        \n",
      "                                                                                                  \n",
      " conv2d_10 (Conv2D)             (None, 2, 2, 4)      148         ['max_pooling2d_10[0][0]']       \n",
      "                                                                                                  \n",
      " max_pooling2d_7 (MaxPooling2D)  (None, 1, 1, 4)     0           ['conv2d_7[0][0]']               \n",
      "                                                                                                  \n",
      " max_pooling2d_11 (MaxPooling2D  (None, 1, 1, 4)     0           ['conv2d_10[0][0]']              \n",
      " )                                                                                                \n",
      "                                                                                                  \n",
      " cls_output (Conv2D)            (None, 1, 1, 2)      74          ['max_pooling2d_7[0][0]']        \n",
      "                                                                                                  \n",
      " reg_output (Conv2D)            (None, 1, 1, 4)      148         ['max_pooling2d_11[0][0]']       \n",
      "                                                                                                  \n",
      "==================================================================================================\n",
      "Total params: 2,494\n",
      "Trainable params: 2,494\n",
      "Non-trainable params: 0\n",
      "__________________________________________________________________________________________________\n",
      "Checking the CNN model...\n",
      "Great! The CNN model satisfies all the requirements.\n",
      "\n"
     ]
    }
   ],
   "source": [
    "# Do not change below.\n",
    "model48_simo = net48_simo()\n",
    "model48_simo.summary()\n",
    "check_model(model48_simo, is_simo=True)\n",
    "print()"
   ]
  },
  {
   "cell_type": "code",
   "execution_count": 6,
   "metadata": {},
   "outputs": [
    {
     "name": "stdout",
     "output_type": "stream",
     "text": [
      "1/1 [==============================] - 0s 122ms/step\n",
      "(1, 1, 1, 2)\n",
      "(1, 1, 1, 4)\n",
      "[0.49976736 0.50023264]\n"
     ]
    }
   ],
   "source": [
    "# Do not change below.\n",
    "img = np.random.randn(1, 48, 48, 3)\n",
    "outputs = model48_simo.predict(img)\n",
    "print(outputs[0].shape) # should display (1,1,1,2)\n",
    "print(outputs[1].shape) # should display (1,1,1,4)\n",
    "cls = np.reshape(outputs[0], (2,))\n",
    "reg = np.reshape(outputs[1], (4,))\n",
    "print(cls)"
   ]
  },
  {
   "cell_type": "code",
   "execution_count": 7,
   "metadata": {},
   "outputs": [
    {
     "name": "stdout",
     "output_type": "stream",
     "text": [
      "1.0\n",
      "[-0.02282757  0.12926647 -0.06428114  0.06944496]\n"
     ]
    }
   ],
   "source": [
    "print(cls[0] + cls[1])\n",
    "print(reg)"
   ]
  },
  {
   "cell_type": "code",
   "execution_count": 8,
   "metadata": {},
   "outputs": [],
   "source": [
    "# Question 2 (5 points)\n",
    "# Why cls[0] + cls[1] is always equal to one regardless of  the values of img?\n",
    "# Answer:\n",
    "# The reason is that cls is processed by softmax in the first output from output layer in model48_simo; the softmax function transforms the logits into probabilities in range of 0 to 1, and makes sure that the sum of probabilities is 1.\n",
    "# Hence, the sum of cls[0] and cls[1] is always equal to one."
   ]
  }
 ],
 "metadata": {
  "kernelspec": {
   "display_name": "env_opencv",
   "language": "python",
   "name": "python3"
  },
  "language_info": {
   "codemirror_mode": {
    "name": "ipython",
    "version": 3
   },
   "file_extension": ".py",
   "mimetype": "text/x-python",
   "name": "python",
   "nbconvert_exporter": "python",
   "pygments_lexer": "ipython3",
   "version": "3.11.7"
  }
 },
 "nbformat": 4,
 "nbformat_minor": 2
}
