{
 "cells": [
  {
   "cell_type": "code",
   "execution_count": 8,
   "metadata": {},
   "outputs": [
    {
     "name": "stdout",
     "output_type": "stream",
     "text": [
      "case1\n",
      "A = [[ 3  2 -1]\n",
      " [ 6 -1  3]\n",
      " [ 1 10 -2]] b = [[-7 -4  2]]\n",
      "Rank(A) =  3  Rank([A, b]) =  3\n",
      "The linear system Ax=b has only one solution.\n",
      "The solution is  [[-2.]\n",
      " [ 1.]\n",
      " [ 3.]]\n",
      "\n",
      "case2\n",
      "A = [[ 4 -1  3]\n",
      " [21 -4 18]\n",
      " [-9  1 -9]] b = [[ 5  7 -8]]\n",
      "Rank(A) =  2  Rank([A, b]) =  3\n",
      "The linear system Ax=b has no solutions.\n",
      "\n",
      "case3\n",
      "A = [[ 7 -4  1]\n",
      " [ 3  2 -1]\n",
      " [ 5 12 -5]] b = [[-15  -5  -5]]\n",
      "Rank(A) =  2  Rank([A, b]) =  2\n",
      "The linear system Ax=b has infinitely many solutions.\n",
      "\n"
     ]
    }
   ],
   "source": [
    "import numpy as np\n",
    "\n",
    "def solve_linear_equation(A, b):\n",
    "    # enter your code here, and remove the following line (30%)\n",
    "    rank_A = np.linalg.matrix_rank(A)\n",
    "    A_b = np.hstack((A, b))# create [A, b]\n",
    "    rank_A_b = np.linalg.matrix_rank(A_b)\n",
    "    print(\"Rank(A) = \", rank_A, \" Rank([A, b]) = \", rank_A_b)\n",
    "    if rank_A == rank_A_b: # consistent\n",
    "        if rank_A == A.shape[1]: # when rank_A == n\n",
    "            return 1 # only one solution       \n",
    "        else:\n",
    "            return 0 # many solutions\n",
    "    else: # not consistent, no solution\n",
    "        return -1\n",
    "\n",
    "\n",
    "def flag_to_message(flag):\n",
    "    if flag == 1:\n",
    "      print('The linear system Ax=b has only one solution.')\n",
    "    elif flag == 0:\n",
    "      print('The linear system Ax=b has infinitely many solutions.')\n",
    "    elif flag == -1:\n",
    "      print('The linear system Ax=b has no solutions.')\n",
    "    else:\n",
    "      print('Unknown flag!')\n",
    "\n",
    "def get_input_data(input_id):\n",
    "    if input_id == 'case1': \n",
    "      A = np.array([[3, 2, -1], [6, -1, 3], [1, 10, -2]])\n",
    "      b = np.array([[-7], [-4], [2]])\n",
    "    elif input_id == 'case2':\n",
    "      A = np.array([[4, -1, 3], [21, -4, 18], [-9, 1, -9]])\n",
    "      b = np.array([[5], [7], [-8]])\n",
    "    elif input_id == 'case3':\n",
    "      A = np.array([[7, -4, 1], [3, 2, -1], [5, 12, -5]])\n",
    "      b = np.array([[-15], [-5], [-5]])\n",
    "    return A, b\n",
    "\n",
    "if __name__ == '__main__':\n",
    "    for case in ['case1', 'case2', 'case3']:\n",
    "      A, b = get_input_data(case)\n",
    "      print(case)\n",
    "      print('A =', A, 'b =', b.T)\n",
    "      flag = solve_linear_equation(A, b)\n",
    "      flag_to_message(flag)\n",
    "      if flag == 1:\n",
    "        print('The solution is ', np.linalg.solve(A, b))\n",
    "      print()\n"
   ]
  },
  {
   "cell_type": "markdown",
   "metadata": {},
   "source": [
    "Test `np.linalg.matrix_rank()`"
   ]
  },
  {
   "cell_type": "code",
   "execution_count": 9,
   "metadata": {},
   "outputs": [
    {
     "name": "stdout",
     "output_type": "stream",
     "text": [
      "2\n",
      "1\n"
     ]
    }
   ],
   "source": [
    "a = np.array([[2, 2],\n",
    "              [3, 4]])\n",
    "b = np.array([[2, 2],\n",
    "              [3, 3]])\n",
    "print(np.linalg.matrix_rank(a))\n",
    "print(np.linalg.matrix_rank(b))\n"
   ]
  },
  {
   "cell_type": "code",
   "execution_count": 10,
   "metadata": {},
   "outputs": [
    {
     "name": "stdout",
     "output_type": "stream",
     "text": [
      "A = [[ 7 -4  1]\n",
      " [ 3  2 -1]\n",
      " [ 5 12 -5]] b = [[-15  -5  -5]]\n"
     ]
    }
   ],
   "source": [
    "# Can we use np.linalg.solve() to determine whether 𝐀𝐱=𝐛 is consistent? Explain the reason for your answer. (5%)\n",
    "# Write down your answer here.\n",
    "\n",
    "########### ANS ################\n",
    "# No, we can't.\n",
    "# Based on above result, case3 has many solutions, and it is consistent. So, I want to test if it can get solutions from `np.linalg.solve` function.\n",
    "A, b = get_input_data(\"case3\") # A is singular matrix.\n",
    "print('A =', A, 'b =', b.T)\n",
    "# np.linalg.solve(A, b)\n",
    "# Above solve function will raise error because A as np.linalg.solve's parameter shouldn't be singular matrix.\n",
    "# We know both case1 and case3 are consistent, but case3 can't be applied to `np.linalg.solve` function.\n",
    "# Hence, we can't use `np.linalg.solve` to determine whether 𝐀𝐱=𝐛 is consistent"
   ]
  },
  {
   "cell_type": "code",
   "execution_count": 11,
   "metadata": {},
   "outputs": [],
   "source": [
    "# Given matrix 𝐀 of dimension (m,n). If rank(𝐀)=𝑛, can we infer that 𝐀𝐱=𝐛 is consistent? Explain the reason for your answer. (5%)\n",
    "# Write down your answer here.\n",
    "\n",
    "########### ANS ################\n",
    "# The answer depends on if m is equal to n, so I will divide into 2 situations:\n",
    "# If m == n,\n",
    "    # Yes, we can.\n",
    "    # If rank(A) is n, A is non-singular matrix which is invertible. Therefore, we can calculate the unique solution x by x = A^{-1}b, which means Ax=b is consistent.\n",
    "\n",
    "# If m != n,\n",
    "    # No, we can't. The consistency should depend on b.\n",
    "    # rank(A) means that the columns of A are linearly independent, and the system 𝐀𝐱=𝐛 will be consistent if and only if b lies within the column space of A."
   ]
  }
 ],
 "metadata": {
  "kernelspec": {
   "display_name": "env_opencv",
   "language": "python",
   "name": "python3"
  },
  "language_info": {
   "codemirror_mode": {
    "name": "ipython",
    "version": 3
   },
   "file_extension": ".py",
   "mimetype": "text/x-python",
   "name": "python",
   "nbconvert_exporter": "python",
   "pygments_lexer": "ipython3",
   "version": "3.11.7"
  }
 },
 "nbformat": 4,
 "nbformat_minor": 2
}
