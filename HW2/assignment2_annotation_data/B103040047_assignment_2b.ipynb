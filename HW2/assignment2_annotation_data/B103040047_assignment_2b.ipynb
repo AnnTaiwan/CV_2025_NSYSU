{
 "cells": [
  {
   "cell_type": "code",
   "execution_count": 5,
   "metadata": {},
   "outputs": [
    {
     "name": "stdout",
     "output_type": "stream",
     "text": [
      "Step 2b.2\n",
      "      width < 10: 34706\n",
      "10 <= width < 20: 57250\n",
      "20 <= width < 30: 24885\n",
      "30 <= width < 40: 13338\n",
      "40 <= width < 50: 8011\n",
      "50 <= width     : 20699\n",
      "----------------------------------\n",
      "Step 2b.3\n",
      "       width/height < 0.6: 7720\n",
      "0.6 <= width/height < 0.7: 22966\n",
      "0.7 <= width/height < 0.8: 46997\n",
      "0.8 <= width/height < 0.9: 45458\n",
      "0.9 <= width/height < 1.0: 16786\n",
      "1.0 <= width/height      : 18962\n",
      "----------------------------------\n",
      "Step 2b.4\n"
     ]
    },
    {
     "data": {
      "image/png": "[encoded data removed]",
      "text/plain": [
       "<Figure size 640x480 with 1 Axes>"
      ]
     },
     "metadata": {},
     "output_type": "display_data"
    }
   ],
   "source": [
    "import numpy as np\n",
    "import matplotlib.pyplot as plt\n",
    "%matplotlib inline\n",
    "\n",
    "if __name__ == '__main__':\n",
    "  anno_file = 'annotation.txt'\n",
    "  with open(anno_file, 'r') as fp:\n",
    "    lines = fp.readlines()\n",
    "    # Enter your code here (25%)\n",
    "    widths = []\n",
    "    heights = []\n",
    "    count_invalid_bbox = 0 # count the invalid bbox in total\n",
    "    dict_range = {i: 0 for i in range(0, 51, 10)} # save the counting number of each range in step2b.2 (about width)\n",
    "    # save the counting number of each range in step2b.3 (about width/height)\n",
    "    dict_ratio_range = {\n",
    "      0:0,\n",
    "      0.6:0,\n",
    "      0.7:0,\n",
    "      0.8:0,\n",
    "      0.9:0,\n",
    "      1.0:0\n",
    "    } \n",
    "    # You might use the following to access each line\n",
    "    # calculate the total width and height of valid bboxes\n",
    "    for line in lines:\n",
    "      img_name = line.strip().split(' ')[0]\n",
    "      arr_bbox = np.array(list(map(int, line.strip().split(' ')[1:]))) # convert type into integer\n",
    "      arr_bbox = np.reshape(arr_bbox, (-1, 4))\n",
    "      for bbox in arr_bbox:\n",
    "        x1, y1, x2, y2 = bbox\n",
    "        if not(x1 >= 0 and y1 >= 0 and x2 > x1 and y2 > y1): # invalid bbox\n",
    "          # print(f\"\\033[91m({x1}, {y1}, {x2}, {y2}) is not a valid bbox, so skip this bbox.\\033[0m\")\n",
    "          count_invalid_bbox += 1 # one invalid bbox found\n",
    "          continue\n",
    "        # cal size of bbox\n",
    "        widths.append(x2 - x1 + 1)\n",
    "        heights.append(y2 - y1 + 1)\n",
    "      \n",
    "\n",
    "    # Step 2b.2: count the number of each range\n",
    "    for i in widths:\n",
    "      for lower_bound in sorted(dict_range.keys(), reverse=True):\n",
    "        if i >= lower_bound: # then, i is in this range, so count 1, and break\n",
    "          dict_range[lower_bound] += 1\n",
    "          break\n",
    "    print(\"Step 2b.2\")\n",
    "    # Step 2b.2: print the number of each range from width\n",
    "    for i in dict_range.keys():\n",
    "      if i == 0:\n",
    "        print(f\"{' ' * 6}width < {i+10}: {dict_range[i]}\")\n",
    "      elif i == 50:\n",
    "        print(f\"{i} <= width{' ' * 5}: {dict_range[i]}\")\n",
    "      else:\n",
    "        print(f\"{i} <= width < {i+10}: {dict_range[i]}\")\n",
    "      \n",
    "\n",
    "\n",
    "    # Step 2b.3: count the number of each range counted from width/height\n",
    "    for w, h in zip(widths, heights):\n",
    "      ratio = w / h\n",
    "      for lower_bound in sorted(dict_ratio_range.keys(), reverse=True):\n",
    "        if ratio >= lower_bound: # then, i is in this range, so count 1, and break\n",
    "          dict_ratio_range[lower_bound] += 1\n",
    "          break\n",
    "    print(\"----------------------------------\\nStep 2b.3\")\n",
    "    # Step 2b.3: print the number of each range counted from width/height\n",
    "    for i in dict_ratio_range.keys():\n",
    "      if i == 0:\n",
    "        print(f\"{' ' * 7}width/height < {i+0.6:.1f}: {dict_ratio_range[i]}\")\n",
    "      elif i == 1.0:\n",
    "        print(f\"{i:.1f} <= width/height{' ' * 6}: {dict_ratio_range[i]}\")\n",
    "      else:\n",
    "        print(f\"{i:.1f} <= width/height < {i+0.1:.1f}: {dict_ratio_range[i]}\")\n",
    "    \n",
    "    print(\"----------------------------------\\nStep 2b.4\")\n",
    "    # Step 2b.4: plot the statistic image\n",
    "    plt.hist(widths, range(0,101,10), rwidth=0.85)\n",
    "    plt.grid(True, axis='y')\n",
    "    plt.xlabel(\"Width\")\n",
    "    plt.ylabel(\"Counts\")\n",
    "    plt.show()"
   ]
  },
  {
   "cell_type": "code",
   "execution_count": 6,
   "metadata": {},
   "outputs": [
    {
     "name": "stdout",
     "output_type": "stream",
     "text": [
      "Number of invalid bounding boxes: 535\n"
     ]
    }
   ],
   "source": [
    "# Step 2b.5: In Step 2b.1, we only consider valid bounding boxes. How many bounding boxes are invalid? Modify the above code to find the answer. (5%)\n",
    "# Write down your answer here.\n",
    "# In above code, when reading each bbox, there is one if-statement to decide whether this bbox is valid or not. \n",
    "# If this bbox is invalid, I declare a variable `count_invalid_bbox` to count all invalid bboxes.\n",
    "print(f\"Number of invalid bounding boxes: {count_invalid_bbox}\")"
   ]
  }
 ],
 "metadata": {
  "kernelspec": {
   "display_name": "env_opencv",
   "language": "python",
   "name": "python3"
  },
  "language_info": {
   "codemirror_mode": {
    "name": "ipython",
    "version": 3
   },
   "file_extension": ".py",
   "mimetype": "text/x-python",
   "name": "python",
   "nbconvert_exporter": "python",
   "pygments_lexer": "ipython3",
   "version": "3.11.7"
  }
 },
 "nbformat": 4,
 "nbformat_minor": 2
}
